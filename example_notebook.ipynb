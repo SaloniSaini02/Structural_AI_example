{
 "cells": [
  {
   "cell_type": "code",
   "execution_count": 1,
   "metadata": {},
   "outputs": [],
   "source": [
    "import pandas as pd\n",
    "import numpy as np\n",
    "import seaborn as sns\n",
    "import xgboost as xgb\n",
    "from sklearn.datasets import load_boston\n",
    "from sklearn.model_selection import train_test_split, GridSearchCV\n",
    "from sklearn.metrics import mean_squared_error\n",
    "from sklearn.ensemble import RandomForestRegressor\n",
    "from sklearn import preprocessing \n",
    "import warnings\n",
    "import matplotlib.pyplot as plt\n",
    "%matplotlib inline"
   ]
  },
  {
   "cell_type": "code",
   "execution_count": 2,
   "metadata": {},
   "outputs": [],
   "source": [
    "warnings.filterwarnings(\"ignore\")"
   ]
  },
  {
   "cell_type": "markdown",
   "metadata": {},
   "source": [
    "##  Goal\n",
    "\n",
    "The notebook demonstrates 3 usecases for implementing models by instructing it how to arrive at the output\n"
   ]
  },
  {
   "cell_type": "code",
   "execution_count": 3,
   "metadata": {},
   "outputs": [],
   "source": [
    "def print_results(result, X_train, y_train, X_test, y_test):\n",
    "     \n",
    "    \"\"\"\n",
    "    The function takes in a fitted model and training and test data and prints the best params and training and test set performance \n",
    "    \"\"\"\n",
    "    \n",
    "    print(\"XGB Model best params : {}\".format(result.best_params_))\n",
    "    \n",
    "    ypred_train = result.predict(X_train)\n",
    "    mse_train = mean_squared_error(y_train, ypred_train)\n",
    "    print(\" Train RMSE: %.5f\" % (mse_train**(1/2.0)))\n",
    "    \n",
    "    ypred_test = result.predict(X_test)\n",
    "    mse_test = mean_squared_error(y_test, ypred_test)\n",
    "    print(\" Test RMSE: %.5f\" % (mse_test**(1/2.0)))"
   ]
  },
  {
   "cell_type": "code",
   "execution_count": 4,
   "metadata": {},
   "outputs": [],
   "source": [
    "def get_partial_dependence(res, feature, X, y):\n",
    "    \"\"\"\n",
    "    The function takes in a fitted model, data and a feature of X and takes a sample of 50 feature values called grid and\n",
    "    calculates partial dependence.The partial function tells us for given value(s) of feature what is the average \n",
    "    marginal effect on the model prediction\n",
    "    \"\"\"\n",
    "    data = X.copy()\n",
    "    grid = np.linspace(np.percentile(data.loc[:, feature], 0.1),\n",
    "                       np.percentile(data.loc[:, feature], 99.5),\n",
    "                    50)\n",
    "    y_pred = np.zeros(50)\n",
    "    for i, val in enumerate(grid):\n",
    "                data.loc[:, feature] = val\n",
    "                pred = res.predict(data)\n",
    "                y_pred[i] = np.average(pred)\n",
    "    \n",
    "    return grid, y_pred"
   ]
  },
  {
   "cell_type": "markdown",
   "metadata": {},
   "source": [
    "### Read Data \n",
    "\n",
    "To demonstrate Usecase 1 and 2 we use an Expenditures dataset found here: [link](https://www.kaggle.com/wduckett/californiaddsexpenditures). It has 1000 rows and 5 columns -  Age, Age Cohort, Gender, Ethnicity and Expenditures.To implement usecase 1 and 2 we create one Baseline XGBoost Model, one XGBoost Model with a monotone constraint on Age and another XGBoost Model with monotone constraint on synthetic variables derived from Age to predict Expenditure"
   ]
  },
  {
   "cell_type": "code",
   "execution_count": 5,
   "metadata": {},
   "outputs": [
    {
     "data": {
      "text/html": [
       "<div>\n",
       "<style scoped>\n",
       "    .dataframe tbody tr th:only-of-type {\n",
       "        vertical-align: middle;\n",
       "    }\n",
       "\n",
       "    .dataframe tbody tr th {\n",
       "        vertical-align: top;\n",
       "    }\n",
       "\n",
       "    .dataframe thead th {\n",
       "        text-align: right;\n",
       "    }\n",
       "</style>\n",
       "<table border=\"1\" class=\"dataframe\">\n",
       "  <thead>\n",
       "    <tr style=\"text-align: right;\">\n",
       "      <th></th>\n",
       "      <th>Age Cohort</th>\n",
       "      <th>Age</th>\n",
       "      <th>Gender</th>\n",
       "      <th>Expenditures</th>\n",
       "      <th>Ethnicity</th>\n",
       "    </tr>\n",
       "  </thead>\n",
       "  <tbody>\n",
       "    <tr>\n",
       "      <th>0</th>\n",
       "      <td>13 to 17</td>\n",
       "      <td>17</td>\n",
       "      <td>Female</td>\n",
       "      <td>2113</td>\n",
       "      <td>White not Hispanic</td>\n",
       "    </tr>\n",
       "    <tr>\n",
       "      <th>1</th>\n",
       "      <td>22 to 50</td>\n",
       "      <td>37</td>\n",
       "      <td>Male</td>\n",
       "      <td>41924</td>\n",
       "      <td>White not Hispanic</td>\n",
       "    </tr>\n",
       "    <tr>\n",
       "      <th>2</th>\n",
       "      <td>0 to 5</td>\n",
       "      <td>3</td>\n",
       "      <td>Male</td>\n",
       "      <td>1454</td>\n",
       "      <td>Hispanic</td>\n",
       "    </tr>\n",
       "    <tr>\n",
       "      <th>3</th>\n",
       "      <td>18 to 21</td>\n",
       "      <td>19</td>\n",
       "      <td>Female</td>\n",
       "      <td>6400</td>\n",
       "      <td>Hispanic</td>\n",
       "    </tr>\n",
       "    <tr>\n",
       "      <th>4</th>\n",
       "      <td>13 to 17</td>\n",
       "      <td>13</td>\n",
       "      <td>Male</td>\n",
       "      <td>4412</td>\n",
       "      <td>White not Hispanic</td>\n",
       "    </tr>\n",
       "  </tbody>\n",
       "</table>\n",
       "</div>"
      ],
      "text/plain": [
       "  Age Cohort  Age  Gender  Expenditures           Ethnicity\n",
       "0   13 to 17   17  Female          2113  White not Hispanic\n",
       "1   22 to 50   37    Male         41924  White not Hispanic\n",
       "2     0 to 5    3    Male          1454            Hispanic\n",
       "3   18 to 21   19  Female          6400            Hispanic\n",
       "4   13 to 17   13    Male          4412  White not Hispanic"
      ]
     },
     "execution_count": 5,
     "metadata": {},
     "output_type": "execute_result"
    }
   ],
   "source": [
    "df = pd.read_csv(\"californiaDDSDataV2.csv\")\n",
    "df = df.drop(columns = 'Id')\n",
    "df.head()"
   ]
  },
  {
   "cell_type": "markdown",
   "metadata": {},
   "source": [
    "### Data Exploration / Engineering"
   ]
  },
  {
   "cell_type": "code",
   "execution_count": 6,
   "metadata": {},
   "outputs": [
    {
     "data": {
      "text/plain": [
       "Age Cohort      0\n",
       "Age             0\n",
       "Gender          0\n",
       "Expenditures    0\n",
       "Ethnicity       0\n",
       "dtype: int64"
      ]
     },
     "execution_count": 6,
     "metadata": {},
     "output_type": "execute_result"
    }
   ],
   "source": [
    "df.isnull().sum()"
   ]
  },
  {
   "cell_type": "code",
   "execution_count": 7,
   "metadata": {},
   "outputs": [
    {
     "name": "stdout",
     "output_type": "stream",
     "text": [
      "<class 'pandas.core.frame.DataFrame'>\n",
      "RangeIndex: 1000 entries, 0 to 999\n",
      "Data columns (total 5 columns):\n",
      "Age Cohort      1000 non-null object\n",
      "Age             1000 non-null int64\n",
      "Gender          1000 non-null object\n",
      "Expenditures    1000 non-null int64\n",
      "Ethnicity       1000 non-null object\n",
      "dtypes: int64(2), object(3)\n",
      "memory usage: 39.2+ KB\n"
     ]
    }
   ],
   "source": [
    "df.info()"
   ]
  },
  {
   "cell_type": "code",
   "execution_count": 8,
   "metadata": {},
   "outputs": [
    {
     "data": {
      "text/plain": [
       "(1000, 5)"
      ]
     },
     "execution_count": 8,
     "metadata": {},
     "output_type": "execute_result"
    }
   ],
   "source": [
    "df.shape"
   ]
  },
  {
   "cell_type": "code",
   "execution_count": 9,
   "metadata": {},
   "outputs": [
    {
     "data": {
      "text/plain": [
       "White not Hispanic    401\n",
       "Hispanic              376\n",
       "Asian                 129\n",
       "Black                  59\n",
       "Multi Race             26\n",
       "American Indian         4\n",
       "Native Hawaiian         3\n",
       "Other                   2\n",
       "Name: Ethnicity, dtype: int64"
      ]
     },
     "execution_count": 9,
     "metadata": {},
     "output_type": "execute_result"
    }
   ],
   "source": [
    "df[\"Ethnicity\"].value_counts()"
   ]
  },
  {
   "cell_type": "code",
   "execution_count": 10,
   "metadata": {},
   "outputs": [
    {
     "data": {
      "text/html": [
       "<div>\n",
       "<style scoped>\n",
       "    .dataframe tbody tr th:only-of-type {\n",
       "        vertical-align: middle;\n",
       "    }\n",
       "\n",
       "    .dataframe tbody tr th {\n",
       "        vertical-align: top;\n",
       "    }\n",
       "\n",
       "    .dataframe thead th {\n",
       "        text-align: right;\n",
       "    }\n",
       "</style>\n",
       "<table border=\"1\" class=\"dataframe\">\n",
       "  <thead>\n",
       "    <tr style=\"text-align: right;\">\n",
       "      <th></th>\n",
       "      <th>Age</th>\n",
       "    </tr>\n",
       "    <tr>\n",
       "      <th>Ethnicity</th>\n",
       "      <th></th>\n",
       "    </tr>\n",
       "  </thead>\n",
       "  <tbody>\n",
       "    <tr>\n",
       "      <th>American Indian</th>\n",
       "      <td>53.250000</td>\n",
       "    </tr>\n",
       "    <tr>\n",
       "      <th>Asian</th>\n",
       "      <td>23.069767</td>\n",
       "    </tr>\n",
       "    <tr>\n",
       "      <th>Black</th>\n",
       "      <td>24.644068</td>\n",
       "    </tr>\n",
       "    <tr>\n",
       "      <th>Hispanic</th>\n",
       "      <td>17.375000</td>\n",
       "    </tr>\n",
       "    <tr>\n",
       "      <th>Multi Race</th>\n",
       "      <td>10.269231</td>\n",
       "    </tr>\n",
       "    <tr>\n",
       "      <th>Native Hawaiian</th>\n",
       "      <td>35.666667</td>\n",
       "    </tr>\n",
       "    <tr>\n",
       "      <th>Other</th>\n",
       "      <td>16.000000</td>\n",
       "    </tr>\n",
       "    <tr>\n",
       "      <th>White not Hispanic</th>\n",
       "      <td>27.975062</td>\n",
       "    </tr>\n",
       "  </tbody>\n",
       "</table>\n",
       "</div>"
      ],
      "text/plain": [
       "                          Age\n",
       "Ethnicity                    \n",
       "American Indian     53.250000\n",
       "Asian               23.069767\n",
       "Black               24.644068\n",
       "Hispanic            17.375000\n",
       "Multi Race          10.269231\n",
       "Native Hawaiian     35.666667\n",
       "Other               16.000000\n",
       "White not Hispanic  27.975062"
      ]
     },
     "execution_count": 10,
     "metadata": {},
     "output_type": "execute_result"
    }
   ],
   "source": [
    "df.groupby('Ethnicity')[[\"Age\"]].mean()"
   ]
  },
  {
   "cell_type": "markdown",
   "metadata": {},
   "source": [
    "For the purpose of this example we select rows havng ethnicity Hispanic or White not Hispanic which forms a majority of the dataset."
   ]
  },
  {
   "cell_type": "code",
   "execution_count": 11,
   "metadata": {},
   "outputs": [
    {
     "data": {
      "text/html": [
       "<div>\n",
       "<style scoped>\n",
       "    .dataframe tbody tr th:only-of-type {\n",
       "        vertical-align: middle;\n",
       "    }\n",
       "\n",
       "    .dataframe tbody tr th {\n",
       "        vertical-align: top;\n",
       "    }\n",
       "\n",
       "    .dataframe thead th {\n",
       "        text-align: right;\n",
       "    }\n",
       "</style>\n",
       "<table border=\"1\" class=\"dataframe\">\n",
       "  <thead>\n",
       "    <tr style=\"text-align: right;\">\n",
       "      <th></th>\n",
       "      <th>Age Cohort</th>\n",
       "      <th>Age</th>\n",
       "      <th>Gender</th>\n",
       "      <th>Expenditures</th>\n",
       "      <th>Ethnicity</th>\n",
       "    </tr>\n",
       "  </thead>\n",
       "  <tbody>\n",
       "    <tr>\n",
       "      <th>0</th>\n",
       "      <td>13 to 17</td>\n",
       "      <td>17</td>\n",
       "      <td>Female</td>\n",
       "      <td>2113</td>\n",
       "      <td>White not Hispanic</td>\n",
       "    </tr>\n",
       "    <tr>\n",
       "      <th>1</th>\n",
       "      <td>22 to 50</td>\n",
       "      <td>37</td>\n",
       "      <td>Male</td>\n",
       "      <td>41924</td>\n",
       "      <td>White not Hispanic</td>\n",
       "    </tr>\n",
       "    <tr>\n",
       "      <th>2</th>\n",
       "      <td>0 to 5</td>\n",
       "      <td>3</td>\n",
       "      <td>Male</td>\n",
       "      <td>1454</td>\n",
       "      <td>Hispanic</td>\n",
       "    </tr>\n",
       "    <tr>\n",
       "      <th>3</th>\n",
       "      <td>18 to 21</td>\n",
       "      <td>19</td>\n",
       "      <td>Female</td>\n",
       "      <td>6400</td>\n",
       "      <td>Hispanic</td>\n",
       "    </tr>\n",
       "    <tr>\n",
       "      <th>4</th>\n",
       "      <td>13 to 17</td>\n",
       "      <td>13</td>\n",
       "      <td>Male</td>\n",
       "      <td>4412</td>\n",
       "      <td>White not Hispanic</td>\n",
       "    </tr>\n",
       "  </tbody>\n",
       "</table>\n",
       "</div>"
      ],
      "text/plain": [
       "  Age Cohort  Age  Gender  Expenditures           Ethnicity\n",
       "0   13 to 17   17  Female          2113  White not Hispanic\n",
       "1   22 to 50   37    Male         41924  White not Hispanic\n",
       "2     0 to 5    3    Male          1454            Hispanic\n",
       "3   18 to 21   19  Female          6400            Hispanic\n",
       "4   13 to 17   13    Male          4412  White not Hispanic"
      ]
     },
     "execution_count": 11,
     "metadata": {},
     "output_type": "execute_result"
    }
   ],
   "source": [
    "df = df[(df[\"Ethnicity\"] == 'Hispanic') | (df[\"Ethnicity\"] == 'White not Hispanic')]\n",
    "df.head()"
   ]
  },
  {
   "cell_type": "code",
   "execution_count": 12,
   "metadata": {},
   "outputs": [
    {
     "data": {
      "text/plain": [
       "(777, 5)"
      ]
     },
     "execution_count": 12,
     "metadata": {},
     "output_type": "execute_result"
    }
   ],
   "source": [
    "df.shape"
   ]
  },
  {
   "cell_type": "code",
   "execution_count": 13,
   "metadata": {},
   "outputs": [
    {
     "data": {
      "text/html": [
       "<div>\n",
       "<style scoped>\n",
       "    .dataframe tbody tr th:only-of-type {\n",
       "        vertical-align: middle;\n",
       "    }\n",
       "\n",
       "    .dataframe tbody tr th {\n",
       "        vertical-align: top;\n",
       "    }\n",
       "\n",
       "    .dataframe thead th {\n",
       "        text-align: right;\n",
       "    }\n",
       "</style>\n",
       "<table border=\"1\" class=\"dataframe\">\n",
       "  <thead>\n",
       "    <tr style=\"text-align: right;\">\n",
       "      <th></th>\n",
       "      <th>Expenditures</th>\n",
       "    </tr>\n",
       "    <tr>\n",
       "      <th>Ethnicity</th>\n",
       "      <th></th>\n",
       "    </tr>\n",
       "  </thead>\n",
       "  <tbody>\n",
       "    <tr>\n",
       "      <th>Hispanic</th>\n",
       "      <td>11065.569149</td>\n",
       "    </tr>\n",
       "    <tr>\n",
       "      <th>White not Hispanic</th>\n",
       "      <td>24697.548628</td>\n",
       "    </tr>\n",
       "  </tbody>\n",
       "</table>\n",
       "</div>"
      ],
      "text/plain": [
       "                    Expenditures\n",
       "Ethnicity                       \n",
       "Hispanic            11065.569149\n",
       "White not Hispanic  24697.548628"
      ]
     },
     "execution_count": 13,
     "metadata": {},
     "output_type": "execute_result"
    }
   ],
   "source": [
    "df.groupby(['Ethnicity'])[[\"Expenditures\"]].mean()"
   ]
  },
  {
   "cell_type": "code",
   "execution_count": 14,
   "metadata": {},
   "outputs": [
    {
     "data": {
      "text/html": [
       "<div>\n",
       "<style scoped>\n",
       "    .dataframe tbody tr th:only-of-type {\n",
       "        vertical-align: middle;\n",
       "    }\n",
       "\n",
       "    .dataframe tbody tr th {\n",
       "        vertical-align: top;\n",
       "    }\n",
       "\n",
       "    .dataframe thead th {\n",
       "        text-align: right;\n",
       "    }\n",
       "</style>\n",
       "<table border=\"1\" class=\"dataframe\">\n",
       "  <thead>\n",
       "    <tr style=\"text-align: right;\">\n",
       "      <th></th>\n",
       "      <th>Ethnicity</th>\n",
       "      <th>Age Cohort</th>\n",
       "      <th>Expenditures</th>\n",
       "    </tr>\n",
       "  </thead>\n",
       "  <tbody>\n",
       "    <tr>\n",
       "      <th>0</th>\n",
       "      <td>Hispanic</td>\n",
       "      <td>0 to 5</td>\n",
       "      <td>1393.204545</td>\n",
       "    </tr>\n",
       "    <tr>\n",
       "      <th>1</th>\n",
       "      <td>Hispanic</td>\n",
       "      <td>13 to 17</td>\n",
       "      <td>3955.281553</td>\n",
       "    </tr>\n",
       "    <tr>\n",
       "      <th>2</th>\n",
       "      <td>Hispanic</td>\n",
       "      <td>18 to 21</td>\n",
       "      <td>9959.846154</td>\n",
       "    </tr>\n",
       "    <tr>\n",
       "      <th>3</th>\n",
       "      <td>Hispanic</td>\n",
       "      <td>22 to 50</td>\n",
       "      <td>40924.116279</td>\n",
       "    </tr>\n",
       "    <tr>\n",
       "      <th>4</th>\n",
       "      <td>Hispanic</td>\n",
       "      <td>51+</td>\n",
       "      <td>55585.000000</td>\n",
       "    </tr>\n",
       "    <tr>\n",
       "      <th>5</th>\n",
       "      <td>Hispanic</td>\n",
       "      <td>6 to 12</td>\n",
       "      <td>2312.186813</td>\n",
       "    </tr>\n",
       "    <tr>\n",
       "      <th>6</th>\n",
       "      <td>White not Hispanic</td>\n",
       "      <td>0 to 5</td>\n",
       "      <td>1366.900000</td>\n",
       "    </tr>\n",
       "    <tr>\n",
       "      <th>7</th>\n",
       "      <td>White not Hispanic</td>\n",
       "      <td>13 to 17</td>\n",
       "      <td>3904.358209</td>\n",
       "    </tr>\n",
       "    <tr>\n",
       "      <th>8</th>\n",
       "      <td>White not Hispanic</td>\n",
       "      <td>18 to 21</td>\n",
       "      <td>10133.057971</td>\n",
       "    </tr>\n",
       "    <tr>\n",
       "      <th>9</th>\n",
       "      <td>White not Hispanic</td>\n",
       "      <td>22 to 50</td>\n",
       "      <td>40187.624060</td>\n",
       "    </tr>\n",
       "    <tr>\n",
       "      <th>10</th>\n",
       "      <td>White not Hispanic</td>\n",
       "      <td>51+</td>\n",
       "      <td>52670.424242</td>\n",
       "    </tr>\n",
       "    <tr>\n",
       "      <th>11</th>\n",
       "      <td>White not Hispanic</td>\n",
       "      <td>6 to 12</td>\n",
       "      <td>2052.260870</td>\n",
       "    </tr>\n",
       "  </tbody>\n",
       "</table>\n",
       "</div>"
      ],
      "text/plain": [
       "             Ethnicity Age Cohort  Expenditures\n",
       "0             Hispanic     0 to 5   1393.204545\n",
       "1             Hispanic   13 to 17   3955.281553\n",
       "2             Hispanic   18 to 21   9959.846154\n",
       "3             Hispanic   22 to 50  40924.116279\n",
       "4             Hispanic        51+  55585.000000\n",
       "5             Hispanic    6 to 12   2312.186813\n",
       "6   White not Hispanic     0 to 5   1366.900000\n",
       "7   White not Hispanic   13 to 17   3904.358209\n",
       "8   White not Hispanic   18 to 21  10133.057971\n",
       "9   White not Hispanic   22 to 50  40187.624060\n",
       "10  White not Hispanic        51+  52670.424242\n",
       "11  White not Hispanic    6 to 12   2052.260870"
      ]
     },
     "execution_count": 14,
     "metadata": {},
     "output_type": "execute_result"
    }
   ],
   "source": [
    "df2= df.groupby(['Ethnicity', 'Age Cohort'])[[\"Expenditures\"]].mean().reset_index()\n",
    "df2"
   ]
  },
  {
   "cell_type": "code",
   "execution_count": 15,
   "metadata": {},
   "outputs": [
    {
     "data": {
      "text/html": [
       "<div>\n",
       "<style scoped>\n",
       "    .dataframe tbody tr th:only-of-type {\n",
       "        vertical-align: middle;\n",
       "    }\n",
       "\n",
       "    .dataframe tbody tr th {\n",
       "        vertical-align: top;\n",
       "    }\n",
       "\n",
       "    .dataframe thead th {\n",
       "        text-align: right;\n",
       "    }\n",
       "</style>\n",
       "<table border=\"1\" class=\"dataframe\">\n",
       "  <thead>\n",
       "    <tr style=\"text-align: right;\">\n",
       "      <th></th>\n",
       "      <th>Ethnicity_x</th>\n",
       "      <th>Age Cohort</th>\n",
       "      <th>Expenditures_x</th>\n",
       "      <th>Ethnicity_y</th>\n",
       "      <th>Expenditures_y</th>\n",
       "    </tr>\n",
       "  </thead>\n",
       "  <tbody>\n",
       "    <tr>\n",
       "      <th>0</th>\n",
       "      <td>Hispanic</td>\n",
       "      <td>0 to 5</td>\n",
       "      <td>1393.204545</td>\n",
       "      <td>White not Hispanic</td>\n",
       "      <td>1366.900000</td>\n",
       "    </tr>\n",
       "    <tr>\n",
       "      <th>1</th>\n",
       "      <td>Hispanic</td>\n",
       "      <td>13 to 17</td>\n",
       "      <td>3955.281553</td>\n",
       "      <td>White not Hispanic</td>\n",
       "      <td>3904.358209</td>\n",
       "    </tr>\n",
       "    <tr>\n",
       "      <th>2</th>\n",
       "      <td>Hispanic</td>\n",
       "      <td>18 to 21</td>\n",
       "      <td>9959.846154</td>\n",
       "      <td>White not Hispanic</td>\n",
       "      <td>10133.057971</td>\n",
       "    </tr>\n",
       "    <tr>\n",
       "      <th>3</th>\n",
       "      <td>Hispanic</td>\n",
       "      <td>22 to 50</td>\n",
       "      <td>40924.116279</td>\n",
       "      <td>White not Hispanic</td>\n",
       "      <td>40187.624060</td>\n",
       "    </tr>\n",
       "    <tr>\n",
       "      <th>4</th>\n",
       "      <td>Hispanic</td>\n",
       "      <td>51+</td>\n",
       "      <td>55585.000000</td>\n",
       "      <td>White not Hispanic</td>\n",
       "      <td>52670.424242</td>\n",
       "    </tr>\n",
       "    <tr>\n",
       "      <th>5</th>\n",
       "      <td>Hispanic</td>\n",
       "      <td>6 to 12</td>\n",
       "      <td>2312.186813</td>\n",
       "      <td>White not Hispanic</td>\n",
       "      <td>2052.260870</td>\n",
       "    </tr>\n",
       "  </tbody>\n",
       "</table>\n",
       "</div>"
      ],
      "text/plain": [
       "  Ethnicity_x Age Cohort  Expenditures_x         Ethnicity_y  Expenditures_y\n",
       "0    Hispanic     0 to 5     1393.204545  White not Hispanic     1366.900000\n",
       "1    Hispanic   13 to 17     3955.281553  White not Hispanic     3904.358209\n",
       "2    Hispanic   18 to 21     9959.846154  White not Hispanic    10133.057971\n",
       "3    Hispanic   22 to 50    40924.116279  White not Hispanic    40187.624060\n",
       "4    Hispanic        51+    55585.000000  White not Hispanic    52670.424242\n",
       "5    Hispanic    6 to 12     2312.186813  White not Hispanic     2052.260870"
      ]
     },
     "execution_count": 15,
     "metadata": {},
     "output_type": "execute_result"
    }
   ],
   "source": [
    "pd.merge(df2[df2['Ethnicity'] == 'Hispanic'], df2[df2['Ethnicity'] == 'White not Hispanic'], on='Age Cohort')"
   ]
  },
  {
   "cell_type": "code",
   "execution_count": 16,
   "metadata": {},
   "outputs": [
    {
     "data": {
      "text/html": [
       "<div>\n",
       "<style scoped>\n",
       "    .dataframe tbody tr th:only-of-type {\n",
       "        vertical-align: middle;\n",
       "    }\n",
       "\n",
       "    .dataframe tbody tr th {\n",
       "        vertical-align: top;\n",
       "    }\n",
       "\n",
       "    .dataframe thead th {\n",
       "        text-align: right;\n",
       "    }\n",
       "</style>\n",
       "<table border=\"1\" class=\"dataframe\">\n",
       "  <thead>\n",
       "    <tr style=\"text-align: right;\">\n",
       "      <th></th>\n",
       "      <th>Age Cohort</th>\n",
       "      <th>Gender</th>\n",
       "      <th>Expenditures</th>\n",
       "    </tr>\n",
       "  </thead>\n",
       "  <tbody>\n",
       "    <tr>\n",
       "      <th>0</th>\n",
       "      <td>0 to 5</td>\n",
       "      <td>Female</td>\n",
       "      <td>1387.896552</td>\n",
       "    </tr>\n",
       "    <tr>\n",
       "      <th>1</th>\n",
       "      <td>0 to 5</td>\n",
       "      <td>Male</td>\n",
       "      <td>1382.571429</td>\n",
       "    </tr>\n",
       "    <tr>\n",
       "      <th>2</th>\n",
       "      <td>13 to 17</td>\n",
       "      <td>Female</td>\n",
       "      <td>3948.068966</td>\n",
       "    </tr>\n",
       "    <tr>\n",
       "      <th>3</th>\n",
       "      <td>13 to 17</td>\n",
       "      <td>Male</td>\n",
       "      <td>3921.734940</td>\n",
       "    </tr>\n",
       "    <tr>\n",
       "      <th>4</th>\n",
       "      <td>18 to 21</td>\n",
       "      <td>Female</td>\n",
       "      <td>10317.935065</td>\n",
       "    </tr>\n",
       "    <tr>\n",
       "      <th>5</th>\n",
       "      <td>18 to 21</td>\n",
       "      <td>Male</td>\n",
       "      <td>9736.685714</td>\n",
       "    </tr>\n",
       "    <tr>\n",
       "      <th>6</th>\n",
       "      <td>22 to 50</td>\n",
       "      <td>Female</td>\n",
       "      <td>41797.166667</td>\n",
       "    </tr>\n",
       "    <tr>\n",
       "      <th>7</th>\n",
       "      <td>22 to 50</td>\n",
       "      <td>Male</td>\n",
       "      <td>39062.271739</td>\n",
       "    </tr>\n",
       "    <tr>\n",
       "      <th>8</th>\n",
       "      <td>51+</td>\n",
       "      <td>Female</td>\n",
       "      <td>54436.857143</td>\n",
       "    </tr>\n",
       "    <tr>\n",
       "      <th>9</th>\n",
       "      <td>51+</td>\n",
       "      <td>Male</td>\n",
       "      <td>52069.390244</td>\n",
       "    </tr>\n",
       "    <tr>\n",
       "      <th>10</th>\n",
       "      <td>6 to 12</td>\n",
       "      <td>Female</td>\n",
       "      <td>2341.923077</td>\n",
       "    </tr>\n",
       "    <tr>\n",
       "      <th>11</th>\n",
       "      <td>6 to 12</td>\n",
       "      <td>Male</td>\n",
       "      <td>2070.220339</td>\n",
       "    </tr>\n",
       "  </tbody>\n",
       "</table>\n",
       "</div>"
      ],
      "text/plain": [
       "   Age Cohort  Gender  Expenditures\n",
       "0      0 to 5  Female   1387.896552\n",
       "1      0 to 5    Male   1382.571429\n",
       "2    13 to 17  Female   3948.068966\n",
       "3    13 to 17    Male   3921.734940\n",
       "4    18 to 21  Female  10317.935065\n",
       "5    18 to 21    Male   9736.685714\n",
       "6    22 to 50  Female  41797.166667\n",
       "7    22 to 50    Male  39062.271739\n",
       "8         51+  Female  54436.857143\n",
       "9         51+    Male  52069.390244\n",
       "10    6 to 12  Female   2341.923077\n",
       "11    6 to 12    Male   2070.220339"
      ]
     },
     "execution_count": 16,
     "metadata": {},
     "output_type": "execute_result"
    }
   ],
   "source": [
    "df3= df.groupby(['Age Cohort', 'Gender'])[[\"Expenditures\"]].mean().reset_index()\n",
    "df3"
   ]
  },
  {
   "cell_type": "code",
   "execution_count": 17,
   "metadata": {},
   "outputs": [
    {
     "data": {
      "text/html": [
       "<div>\n",
       "<style scoped>\n",
       "    .dataframe tbody tr th:only-of-type {\n",
       "        vertical-align: middle;\n",
       "    }\n",
       "\n",
       "    .dataframe tbody tr th {\n",
       "        vertical-align: top;\n",
       "    }\n",
       "\n",
       "    .dataframe thead th {\n",
       "        text-align: right;\n",
       "    }\n",
       "</style>\n",
       "<table border=\"1\" class=\"dataframe\">\n",
       "  <thead>\n",
       "    <tr style=\"text-align: right;\">\n",
       "      <th></th>\n",
       "      <th>Age Cohort</th>\n",
       "      <th>Gender_x</th>\n",
       "      <th>Expenditures_x</th>\n",
       "      <th>Gender_y</th>\n",
       "      <th>Expenditures_y</th>\n",
       "    </tr>\n",
       "  </thead>\n",
       "  <tbody>\n",
       "    <tr>\n",
       "      <th>0</th>\n",
       "      <td>0 to 5</td>\n",
       "      <td>Male</td>\n",
       "      <td>1382.571429</td>\n",
       "      <td>Female</td>\n",
       "      <td>1387.896552</td>\n",
       "    </tr>\n",
       "    <tr>\n",
       "      <th>1</th>\n",
       "      <td>13 to 17</td>\n",
       "      <td>Male</td>\n",
       "      <td>3921.734940</td>\n",
       "      <td>Female</td>\n",
       "      <td>3948.068966</td>\n",
       "    </tr>\n",
       "    <tr>\n",
       "      <th>2</th>\n",
       "      <td>18 to 21</td>\n",
       "      <td>Male</td>\n",
       "      <td>9736.685714</td>\n",
       "      <td>Female</td>\n",
       "      <td>10317.935065</td>\n",
       "    </tr>\n",
       "    <tr>\n",
       "      <th>3</th>\n",
       "      <td>22 to 50</td>\n",
       "      <td>Male</td>\n",
       "      <td>39062.271739</td>\n",
       "      <td>Female</td>\n",
       "      <td>41797.166667</td>\n",
       "    </tr>\n",
       "    <tr>\n",
       "      <th>4</th>\n",
       "      <td>51+</td>\n",
       "      <td>Male</td>\n",
       "      <td>52069.390244</td>\n",
       "      <td>Female</td>\n",
       "      <td>54436.857143</td>\n",
       "    </tr>\n",
       "    <tr>\n",
       "      <th>5</th>\n",
       "      <td>6 to 12</td>\n",
       "      <td>Male</td>\n",
       "      <td>2070.220339</td>\n",
       "      <td>Female</td>\n",
       "      <td>2341.923077</td>\n",
       "    </tr>\n",
       "  </tbody>\n",
       "</table>\n",
       "</div>"
      ],
      "text/plain": [
       "  Age Cohort Gender_x  Expenditures_x Gender_y  Expenditures_y\n",
       "0     0 to 5     Male     1382.571429   Female     1387.896552\n",
       "1   13 to 17     Male     3921.734940   Female     3948.068966\n",
       "2   18 to 21     Male     9736.685714   Female    10317.935065\n",
       "3   22 to 50     Male    39062.271739   Female    41797.166667\n",
       "4        51+     Male    52069.390244   Female    54436.857143\n",
       "5    6 to 12     Male     2070.220339   Female     2341.923077"
      ]
     },
     "execution_count": 17,
     "metadata": {},
     "output_type": "execute_result"
    }
   ],
   "source": [
    "pd.merge(df3[df3['Gender'] == 'Male'], df3[df3['Gender'] == 'Female'], on='Age Cohort')"
   ]
  },
  {
   "cell_type": "code",
   "execution_count": 18,
   "metadata": {},
   "outputs": [
    {
     "data": {
      "text/html": [
       "<div>\n",
       "<style scoped>\n",
       "    .dataframe tbody tr th:only-of-type {\n",
       "        vertical-align: middle;\n",
       "    }\n",
       "\n",
       "    .dataframe tbody tr th {\n",
       "        vertical-align: top;\n",
       "    }\n",
       "\n",
       "    .dataframe thead th {\n",
       "        text-align: right;\n",
       "    }\n",
       "</style>\n",
       "<table border=\"1\" class=\"dataframe\">\n",
       "  <thead>\n",
       "    <tr style=\"text-align: right;\">\n",
       "      <th></th>\n",
       "      <th>Age Cohort</th>\n",
       "      <th>Age</th>\n",
       "      <th>Gender</th>\n",
       "      <th>Expenditures</th>\n",
       "      <th>Ethnicity</th>\n",
       "    </tr>\n",
       "  </thead>\n",
       "  <tbody>\n",
       "    <tr>\n",
       "      <th>0</th>\n",
       "      <td>13 to 17</td>\n",
       "      <td>17</td>\n",
       "      <td>0</td>\n",
       "      <td>2113</td>\n",
       "      <td>White not Hispanic</td>\n",
       "    </tr>\n",
       "    <tr>\n",
       "      <th>1</th>\n",
       "      <td>22 to 50</td>\n",
       "      <td>37</td>\n",
       "      <td>1</td>\n",
       "      <td>41924</td>\n",
       "      <td>White not Hispanic</td>\n",
       "    </tr>\n",
       "    <tr>\n",
       "      <th>2</th>\n",
       "      <td>0 to 5</td>\n",
       "      <td>3</td>\n",
       "      <td>1</td>\n",
       "      <td>1454</td>\n",
       "      <td>Hispanic</td>\n",
       "    </tr>\n",
       "    <tr>\n",
       "      <th>3</th>\n",
       "      <td>18 to 21</td>\n",
       "      <td>19</td>\n",
       "      <td>0</td>\n",
       "      <td>6400</td>\n",
       "      <td>Hispanic</td>\n",
       "    </tr>\n",
       "    <tr>\n",
       "      <th>4</th>\n",
       "      <td>13 to 17</td>\n",
       "      <td>13</td>\n",
       "      <td>1</td>\n",
       "      <td>4412</td>\n",
       "      <td>White not Hispanic</td>\n",
       "    </tr>\n",
       "  </tbody>\n",
       "</table>\n",
       "</div>"
      ],
      "text/plain": [
       "  Age Cohort  Age  Gender  Expenditures           Ethnicity\n",
       "0   13 to 17   17       0          2113  White not Hispanic\n",
       "1   22 to 50   37       1         41924  White not Hispanic\n",
       "2     0 to 5    3       1          1454            Hispanic\n",
       "3   18 to 21   19       0          6400            Hispanic\n",
       "4   13 to 17   13       1          4412  White not Hispanic"
      ]
     },
     "execution_count": 18,
     "metadata": {},
     "output_type": "execute_result"
    }
   ],
   "source": [
    "df['Gender']= preprocessing.LabelEncoder().fit_transform(df['Gender']) \n",
    "df.head()"
   ]
  },
  {
   "cell_type": "code",
   "execution_count": 19,
   "metadata": {},
   "outputs": [
    {
     "data": {
      "text/plain": [
       "(777, 5)"
      ]
     },
     "execution_count": 19,
     "metadata": {},
     "output_type": "execute_result"
    }
   ],
   "source": [
    "df.shape"
   ]
  },
  {
   "cell_type": "markdown",
   "metadata": {},
   "source": [
    "For the purpose of this example we transform the Expenditure variable such that for rows with Age above 75 the Expenditure is divided by half"
   ]
  },
  {
   "cell_type": "code",
   "execution_count": 20,
   "metadata": {},
   "outputs": [],
   "source": [
    "df['Expenditures_Old'] = df['Expenditures']\n",
    "df.loc[df['Age']>75, 'Expenditures'] = df.loc[df['Age']>75, 'Expenditures']/2"
   ]
  },
  {
   "cell_type": "code",
   "execution_count": 21,
   "metadata": {},
   "outputs": [
    {
     "data": {
      "image/png": "[encoded data removed]",
      "text/plain": [
       "<Figure size 504x360 with 1 Axes>"
      ]
     },
     "metadata": {},
     "output_type": "display_data"
    }
   ],
   "source": [
    "f, ax = plt.subplots(1, 1)\n",
    "f.set_size_inches(7, 5)\n",
    "sns.lineplot(data=df, x=\"Age\", y=\"Expenditures_Old\", color='blue')\n",
    "sns.lineplot(data=df, x=\"Age\", y=\"Expenditures\", color='red')\n",
    "plt.title(\"Comparison between Expenditues and Expenditures_Old\") \n",
    "plt.legend(labels=[\"Exp_Old\",\"Exp\"])\n",
    "plt.show()"
   ]
  },
  {
   "cell_type": "code",
   "execution_count": 22,
   "metadata": {},
   "outputs": [],
   "source": [
    "X = df[[\"Age\", \"Gender\"]]\n",
    "y = df[\"Expenditures\"]\n",
    "X_train, X_test, y_train, y_test = train_test_split(X,\n",
    "                                                    y,\n",
    "                                                    test_size=0.2,\n",
    "                                                    random_state=1)"
   ]
  },
  {
   "cell_type": "code",
   "execution_count": 23,
   "metadata": {},
   "outputs": [
    {
     "data": {
      "text/plain": [
       "(621, 2)"
      ]
     },
     "execution_count": 23,
     "metadata": {},
     "output_type": "execute_result"
    }
   ],
   "source": [
    "X_train.shape"
   ]
  },
  {
   "cell_type": "markdown",
   "metadata": {},
   "source": [
    "## Usecase 1: The model prediction must be a decreasing (or increasing) function of x1¶\n",
    "\n",
    "To demonstrate this usecase we add a monotone constraint on age and make the assumption that expenditure should increase with age"
   ]
  },
  {
   "cell_type": "code",
   "execution_count": 24,
   "metadata": {},
   "outputs": [
    {
     "name": "stdout",
     "output_type": "stream",
     "text": [
      "Fitting 5 folds for each of 6 candidates, totalling 30 fits\n"
     ]
    },
    {
     "name": "stderr",
     "output_type": "stream",
     "text": [
      "[Parallel(n_jobs=1)]: Using backend SequentialBackend with 1 concurrent workers.\n",
      "[Parallel(n_jobs=1)]: Done  30 out of  30 | elapsed:    0.6s finished\n"
     ]
    }
   ],
   "source": [
    "param_grid = {\n",
    "                'max_depth': [3], \n",
    "                'learning_rate': [.05], \n",
    "                'random_state': [123],\n",
    "                'objective':['reg:squarederror'], \n",
    "                'n_estimators': [25, 30, 40, 50, 100, 150],\n",
    "                'reg_gamma': [0.5]\n",
    "}\n",
    "\n",
    "xgbr = xgb.XGBRegressor()\n",
    "gr = GridSearchCV(xgbr,param_grid=param_grid,cv=5, verbose=True)\n",
    "res = gr.fit(X_train,y_train)"
   ]
  },
  {
   "cell_type": "code",
   "execution_count": 25,
   "metadata": {},
   "outputs": [
    {
     "name": "stdout",
     "output_type": "stream",
     "text": [
      "XGB Model best params : {'n_estimators': 100, 'random_state': 123, 'objective': 'reg:squarederror', 'learning_rate': 0.05, 'max_depth': 3, 'reg_gamma': 0.5}\n",
      " Train RMSE: 3207.41317\n",
      " Test RMSE: 4012.14143\n"
     ]
    }
   ],
   "source": [
    "print_results(res, X_train, y_train, X_test, y_test)"
   ]
  },
  {
   "cell_type": "code",
   "execution_count": 26,
   "metadata": {
    "scrolled": false
   },
   "outputs": [
    {
     "data": {
      "text/plain": [
       "Text(0, 0.5, 'Features')"
      ]
     },
     "execution_count": 26,
     "metadata": {},
     "output_type": "execute_result"
    },
    {
     "data": {
      "image/png": "[encoded data removed]",
      "text/plain": [
       "<Figure size 504x360 with 1 Axes>"
      ]
     },
     "metadata": {},
     "output_type": "display_data"
    }
   ],
   "source": [
    "features = X_train.columns\n",
    "importances = res.best_estimator_.feature_importances_\n",
    "indices = np.argsort(importances)\n",
    "plt.figure(figsize=(7, 5))\n",
    "plt.title('Feature Importances Expenditures dataset of Baseline Model')\n",
    "plt.barh(range(len(indices)), importances[indices], color='b', align='center')\n",
    "plt.yticks(range(len(indices)), [features[i] for i in indices])\n",
    "plt.xlabel('Relative Importance')\n",
    "plt.ylabel('Features')"
   ]
  },
  {
   "cell_type": "markdown",
   "metadata": {},
   "source": [
    "### Adding monotone contraint on Age "
   ]
  },
  {
   "cell_type": "code",
   "execution_count": 27,
   "metadata": {},
   "outputs": [],
   "source": [
    "param_dict = param_grid\n",
    "param_dict['monotone_constraints'] = [\"(1,0)\"]"
   ]
  },
  {
   "cell_type": "code",
   "execution_count": 28,
   "metadata": {},
   "outputs": [
    {
     "name": "stdout",
     "output_type": "stream",
     "text": [
      "Fitting 5 folds for each of 6 candidates, totalling 30 fits\n"
     ]
    },
    {
     "name": "stderr",
     "output_type": "stream",
     "text": [
      "[Parallel(n_jobs=1)]: Using backend SequentialBackend with 1 concurrent workers.\n",
      "[Parallel(n_jobs=1)]: Done  30 out of  30 | elapsed:    0.5s finished\n"
     ]
    }
   ],
   "source": [
    "xgbr_2 = xgb.XGBRegressor()\n",
    "gr2 = GridSearchCV(xgbr_2,param_grid=param_dict,cv=5, verbose=True)\n",
    "res2 = gr2.fit(X_train,y_train)"
   ]
  },
  {
   "cell_type": "code",
   "execution_count": 29,
   "metadata": {},
   "outputs": [
    {
     "name": "stdout",
     "output_type": "stream",
     "text": [
      "XGB Model best params : {'n_estimators': 100, 'random_state': 123, 'objective': 'reg:squarederror', 'learning_rate': 0.05, 'max_depth': 3, 'reg_gamma': 0.5, 'monotone_constraints': '(1,0)'}\n",
      " Train RMSE: 4383.91389\n",
      " Test RMSE: 5584.70953\n"
     ]
    }
   ],
   "source": [
    "print_results(res2, X_train, y_train, X_test, y_test)"
   ]
  },
  {
   "cell_type": "code",
   "execution_count": 30,
   "metadata": {},
   "outputs": [
    {
     "data": {
      "text/plain": [
       "Text(0, 0.5, 'Features')"
      ]
     },
     "execution_count": 30,
     "metadata": {},
     "output_type": "execute_result"
    },
    {
     "data": {
      "image/png": "[encoded data removed]",
      "text/plain": [
       "<Figure size 504x360 with 1 Axes>"
      ]
     },
     "metadata": {},
     "output_type": "display_data"
    }
   ],
   "source": [
    "features = X_train.columns\n",
    "importances = res2.best_estimator_.feature_importances_\n",
    "indices = np.argsort(importances)\n",
    "plt.figure(figsize=(7, 5))\n",
    "plt.title('Feature Importances Expenditures dataset with Age montone')\n",
    "plt.barh(range(len(indices)), importances[indices], color='b', align='center')\n",
    "plt.yticks(range(len(indices)), [features[i] for i in indices])\n",
    "plt.xlabel('Relative Importance')\n",
    "plt.ylabel('Features')"
   ]
  },
  {
   "cell_type": "code",
   "execution_count": 31,
   "metadata": {},
   "outputs": [
    {
     "data": {
      "image/png": "[encoded data removed]",
      "text/plain": [
       "<Figure size 864x720 with 2 Axes>"
      ]
     },
     "metadata": {},
     "output_type": "display_data"
    }
   ],
   "source": [
    "features = X_train.columns\n",
    "fig, ax = plt.subplots(2,1)\n",
    "fig.set_size_inches(12, 10)\n",
    "fig.suptitle('Partial dependency plot on Expenditures dataset', fontsize=14)\n",
    "plt.subplots_adjust(left = 0.07, right = 0.94, bottom = 0.15, top = 0.9)\n",
    "for i, f in enumerate(features):\n",
    "    grid, y_pred = get_partial_dependence(res, f, X_train, y_train)\n",
    "    grid2, y_pred2 = get_partial_dependence(res2, f, X_train, y_train)\n",
    "    ax = ax.flatten()\n",
    "    axis = ax[i]\n",
    "    axis.plot(grid, y_pred, color = 'red', linewidth = 2, label='Baseline Model')\n",
    "    axis.plot(grid2, y_pred2, color = 'blue', linewidth = 2, label='Age Monotone')\n",
    "    axis.set_xlim(min(grid), max(grid))\n",
    "    axis.set_xlabel(f, fontsize = 10)\n",
    "    axis.set_ylabel('Partial Dependence', fontsize = 10)\n",
    "    handles, labels = axis.get_legend_handles_labels()\n",
    "    axis.legend(handles, labels, loc = 'best', fontsize = 10)"
   ]
  },
  {
   "cell_type": "code",
   "execution_count": 32,
   "metadata": {},
   "outputs": [],
   "source": [
    "df['y_pred'] = res.predict(X)\n",
    "df['y_pred2'] = res2.predict(X)"
   ]
  },
  {
   "cell_type": "markdown",
   "metadata": {},
   "source": [
    "## Usecase 2: The model prediction must be a U-shaped function of x2\n",
    "\n",
    "To demonstrate this usecase we create two new variables Age_Plus which is defined as min(Age, 75) and Age_Minus which is defined as max(75, Age) and make the assumption that expenditure is a U shaped function of Age. "
   ]
  },
  {
   "cell_type": "code",
   "execution_count": 33,
   "metadata": {},
   "outputs": [],
   "source": [
    "df['Age_plus'] = df['Age']\n",
    "df.loc[df['Age']>75, 'Age_Plus'] = 75\n",
    "df['Age_minus'] = df['Age']\n",
    "df.loc[df['Age']<=75, 'Age_minus'] = 75\n",
    "param_dict = param_grid\n",
    "param_dict['monotone_constraints'] = [\"(1,-1, 0)\"]"
   ]
  },
  {
   "cell_type": "code",
   "execution_count": 34,
   "metadata": {},
   "outputs": [
    {
     "name": "stdout",
     "output_type": "stream",
     "text": [
      "Fitting 5 folds for each of 6 candidates, totalling 30 fits\n"
     ]
    },
    {
     "name": "stderr",
     "output_type": "stream",
     "text": [
      "[Parallel(n_jobs=1)]: Using backend SequentialBackend with 1 concurrent workers.\n",
      "[Parallel(n_jobs=1)]: Done  30 out of  30 | elapsed:    0.7s finished\n"
     ]
    }
   ],
   "source": [
    "X = df[[\"Age_plus\", \"Age_minus\", \"Gender\"]]\n",
    "y = df[\"Expenditures\"]\n",
    "X_train, X_test, y_train, y_test = train_test_split(X,\n",
    "                                                    y,\n",
    "                                                    test_size=0.2,\n",
    "                                                    random_state=1)\n",
    "\n",
    "\n",
    "xgbr_age_kink = xgb.XGBRegressor()\n",
    "gr3 = GridSearchCV(xgbr_age_kink,param_grid=param_dict,cv=5, verbose=True)\n",
    "age_kink_model = gr3.fit(X_train,y_train)"
   ]
  },
  {
   "cell_type": "code",
   "execution_count": 35,
   "metadata": {},
   "outputs": [],
   "source": [
    "df['y_pred3'] = age_kink_model.predict(X)"
   ]
  },
  {
   "cell_type": "code",
   "execution_count": 36,
   "metadata": {},
   "outputs": [
    {
     "name": "stdout",
     "output_type": "stream",
     "text": [
      "XGB Model best params : {'n_estimators': 100, 'random_state': 123, 'objective': 'reg:squarederror', 'learning_rate': 0.05, 'max_depth': 3, 'reg_gamma': 0.5, 'monotone_constraints': '(1,-1, 0)'}\n",
      " Train RMSE: 3330.69892\n",
      " Test RMSE: 3969.49170\n"
     ]
    }
   ],
   "source": [
    "print_results(age_kink_model, X_train, y_train, X_test, y_test)"
   ]
  },
  {
   "cell_type": "code",
   "execution_count": 37,
   "metadata": {},
   "outputs": [
    {
     "data": {
      "text/plain": [
       "Text(0, 0.5, 'Features')"
      ]
     },
     "execution_count": 37,
     "metadata": {},
     "output_type": "execute_result"
    },
    {
     "data": {
      "image/png": "[encoded data removed]",
      "text/plain": [
       "<Figure size 504x360 with 1 Axes>"
      ]
     },
     "metadata": {},
     "output_type": "display_data"
    }
   ],
   "source": [
    "features = X_train.columns\n",
    "importances = age_kink_model.best_estimator_.feature_importances_\n",
    "indices = np.argsort(importances)\n",
    "plt.figure(figsize=(7, 5))\n",
    "plt.title('Feature Importances Expenditures dataset with Age Kink Monotones')\n",
    "plt.barh(range(len(indices)), importances[indices], color='b', align='center')\n",
    "plt.yticks(range(len(indices)), [features[i] for i in indices])\n",
    "plt.xlabel('Relative Importance')\n",
    "plt.ylabel('Features')"
   ]
  },
  {
   "cell_type": "code",
   "execution_count": 38,
   "metadata": {},
   "outputs": [
    {
     "data": {
      "image/png": "[encoded data removed]",
      "text/plain": [
       "<Figure size 864x864 with 3 Axes>"
      ]
     },
     "metadata": {},
     "output_type": "display_data"
    }
   ],
   "source": [
    "f, ax = plt.subplots(3, 1)\n",
    "f.set_size_inches(12, 12)\n",
    "plt.subplots_adjust(left = 0.07, right = 0.94, bottom = 0.15, top = 0.9)\n",
    "ax = ax.flatten()\n",
    "sns.lineplot(data=df[df[\"Gender\"] == 1], x=\"Age\", y=\"y_pred\", color='blue', ax=ax[0])\n",
    "ax[0].set_xlabel('Age')\n",
    "ax[0].set_ylabel('Predicted_Expeditures')\n",
    "ax[0].legend(labels = ['Baseline'])\n",
    "sns.lineplot(data=df[df[\"Gender\"] == 1], x=\"Age\", y=\"y_pred\", color='blue', ax = ax[1])\n",
    "sns.lineplot(data=df[df[\"Gender\"] == 1], x=\"Age\", y=\"y_pred2\", color='green', ax = ax[1])\n",
    "ax[1].set_xlabel('Age')\n",
    "ax[1].set_ylabel('Predicted_Expeditures')\n",
    "ax[1].legend(labels = ['Baseline', 'Age monotone'])\n",
    "sns.lineplot(data=df[df[\"Gender\"] == 1], x=\"Age\", y=\"y_pred\", color='blue', ax = ax[2])\n",
    "sns.lineplot(data=df[df[\"Gender\"] == 1], x=\"Age\", y=\"y_pred3\", color='red', ax = ax[2])\n",
    "ax[2].set_xlabel('Age')\n",
    "ax[2].set_ylabel('Predicted_Expeditures')\n",
    "ax[2].legend(labels = ['Baseline', 'Age Kink Monotones'])\n",
    "f.suptitle(\"Model predictions on Expenditures dataset for Gender=1\", fontsize=14)\n",
    "plt.show()"
   ]
  },
  {
   "cell_type": "markdown",
   "metadata": {},
   "source": [
    "## Usecase 3: The model prediction must not be too sensitive to x3\n",
    "\n",
    "An example for implementing this usecase is the Boston Housing toy dataset imported from sklearn datasets. It has 506 rows and 13 attributes.To implement use case 3  we will create two XGBoost models. The first model will be trained on the whole dataset and the second will be trained on a subset of the dataset.The final prediction will be a weighted average of these two models. "
   ]
  },
  {
   "cell_type": "code",
   "execution_count": 39,
   "metadata": {},
   "outputs": [
    {
     "name": "stdout",
     "output_type": "stream",
     "text": [
      "dict_keys(['target', 'feature_names', 'DESCR', 'filename', 'data'])\n"
     ]
    }
   ],
   "source": [
    "boston_dataset = load_boston()\n",
    "print(boston_dataset.keys())"
   ]
  },
  {
   "cell_type": "code",
   "execution_count": 40,
   "metadata": {},
   "outputs": [
    {
     "name": "stdout",
     "output_type": "stream",
     "text": [
      ".. _boston_dataset:\n",
      "\n",
      "Boston house prices dataset\n",
      "---------------------------\n",
      "\n",
      "**Data Set Characteristics:**  \n",
      "\n",
      "    :Number of Instances: 506 \n",
      "\n",
      "    :Number of Attributes: 13 numeric/categorical predictive. Median Value (attribute 14) is usually the target.\n",
      "\n",
      "    :Attribute Information (in order):\n",
      "        - CRIM     per capita crime rate by town\n",
      "        - ZN       proportion of residential land zoned for lots over 25,000 sq.ft.\n",
      "        - INDUS    proportion of non-retail business acres per town\n",
      "        - CHAS     Charles River dummy variable (= 1 if tract bounds river; 0 otherwise)\n",
      "        - NOX      nitric oxides concentration (parts per 10 million)\n",
      "        - RM       average number of rooms per dwelling\n",
      "        - AGE      proportion of owner-occupied units built prior to 1940\n",
      "        - DIS      weighted distances to five Boston employment centres\n",
      "        - RAD      index of accessibility to radial highways\n",
      "        - TAX      full-value property-tax rate per $10,000\n",
      "        - PTRATIO  pupil-teacher ratio by town\n",
      "        - B        1000(Bk - 0.63)^2 where Bk is the proportion of blacks by town\n",
      "        - LSTAT    % lower status of the population\n",
      "        - MEDV     Median value of owner-occupied homes in $1000's\n",
      "\n",
      "    :Missing Attribute Values: None\n",
      "\n",
      "    :Creator: Harrison, D. and Rubinfeld, D.L.\n",
      "\n",
      "This is a copy of UCI ML housing dataset.\n",
      "https://archive.ics.uci.edu/ml/machine-learning-databases/housing/\n",
      "\n",
      "\n",
      "This dataset was taken from the StatLib library which is maintained at Carnegie Mellon University.\n",
      "\n",
      "The Boston house-price data of Harrison, D. and Rubinfeld, D.L. 'Hedonic\n",
      "prices and the demand for clean air', J. Environ. Economics & Management,\n",
      "vol.5, 81-102, 1978.   Used in Belsley, Kuh & Welsch, 'Regression diagnostics\n",
      "...', Wiley, 1980.   N.B. Various transformations are used in the table on\n",
      "pages 244-261 of the latter.\n",
      "\n",
      "The Boston house-price data has been used in many machine learning papers that address regression\n",
      "problems.   \n",
      "     \n",
      ".. topic:: References\n",
      "\n",
      "   - Belsley, Kuh & Welsch, 'Regression diagnostics: Identifying Influential Data and Sources of Collinearity', Wiley, 1980. 244-261.\n",
      "   - Quinlan,R. (1993). Combining Instance-Based and Model-Based Learning. In Proceedings on the Tenth International Conference of Machine Learning, 236-243, University of Massachusetts, Amherst. Morgan Kaufmann.\n",
      "\n"
     ]
    }
   ],
   "source": [
    "print(boston_dataset.DESCR)"
   ]
  },
  {
   "cell_type": "code",
   "execution_count": 41,
   "metadata": {},
   "outputs": [
    {
     "data": {
      "text/html": [
       "<div>\n",
       "<style scoped>\n",
       "    .dataframe tbody tr th:only-of-type {\n",
       "        vertical-align: middle;\n",
       "    }\n",
       "\n",
       "    .dataframe tbody tr th {\n",
       "        vertical-align: top;\n",
       "    }\n",
       "\n",
       "    .dataframe thead th {\n",
       "        text-align: right;\n",
       "    }\n",
       "</style>\n",
       "<table border=\"1\" class=\"dataframe\">\n",
       "  <thead>\n",
       "    <tr style=\"text-align: right;\">\n",
       "      <th></th>\n",
       "      <th>CRIM</th>\n",
       "      <th>ZN</th>\n",
       "      <th>INDUS</th>\n",
       "      <th>CHAS</th>\n",
       "      <th>NOX</th>\n",
       "      <th>RM</th>\n",
       "      <th>AGE</th>\n",
       "      <th>DIS</th>\n",
       "      <th>RAD</th>\n",
       "      <th>TAX</th>\n",
       "      <th>PTRATIO</th>\n",
       "      <th>MEDV</th>\n",
       "    </tr>\n",
       "  </thead>\n",
       "  <tbody>\n",
       "    <tr>\n",
       "      <th>0</th>\n",
       "      <td>0.00632</td>\n",
       "      <td>18.0</td>\n",
       "      <td>2.31</td>\n",
       "      <td>0.0</td>\n",
       "      <td>0.538</td>\n",
       "      <td>6.575</td>\n",
       "      <td>65.2</td>\n",
       "      <td>4.0900</td>\n",
       "      <td>1.0</td>\n",
       "      <td>296.0</td>\n",
       "      <td>15.3</td>\n",
       "      <td>24.0</td>\n",
       "    </tr>\n",
       "    <tr>\n",
       "      <th>1</th>\n",
       "      <td>0.02731</td>\n",
       "      <td>0.0</td>\n",
       "      <td>7.07</td>\n",
       "      <td>0.0</td>\n",
       "      <td>0.469</td>\n",
       "      <td>6.421</td>\n",
       "      <td>78.9</td>\n",
       "      <td>4.9671</td>\n",
       "      <td>2.0</td>\n",
       "      <td>242.0</td>\n",
       "      <td>17.8</td>\n",
       "      <td>21.6</td>\n",
       "    </tr>\n",
       "    <tr>\n",
       "      <th>2</th>\n",
       "      <td>0.02729</td>\n",
       "      <td>0.0</td>\n",
       "      <td>7.07</td>\n",
       "      <td>0.0</td>\n",
       "      <td>0.469</td>\n",
       "      <td>7.185</td>\n",
       "      <td>61.1</td>\n",
       "      <td>4.9671</td>\n",
       "      <td>2.0</td>\n",
       "      <td>242.0</td>\n",
       "      <td>17.8</td>\n",
       "      <td>34.7</td>\n",
       "    </tr>\n",
       "    <tr>\n",
       "      <th>3</th>\n",
       "      <td>0.03237</td>\n",
       "      <td>0.0</td>\n",
       "      <td>2.18</td>\n",
       "      <td>0.0</td>\n",
       "      <td>0.458</td>\n",
       "      <td>6.998</td>\n",
       "      <td>45.8</td>\n",
       "      <td>6.0622</td>\n",
       "      <td>3.0</td>\n",
       "      <td>222.0</td>\n",
       "      <td>18.7</td>\n",
       "      <td>33.4</td>\n",
       "    </tr>\n",
       "    <tr>\n",
       "      <th>4</th>\n",
       "      <td>0.06905</td>\n",
       "      <td>0.0</td>\n",
       "      <td>2.18</td>\n",
       "      <td>0.0</td>\n",
       "      <td>0.458</td>\n",
       "      <td>7.147</td>\n",
       "      <td>54.2</td>\n",
       "      <td>6.0622</td>\n",
       "      <td>3.0</td>\n",
       "      <td>222.0</td>\n",
       "      <td>18.7</td>\n",
       "      <td>36.2</td>\n",
       "    </tr>\n",
       "  </tbody>\n",
       "</table>\n",
       "</div>"
      ],
      "text/plain": [
       "      CRIM    ZN  INDUS  CHAS    NOX     RM   AGE     DIS  RAD    TAX  \\\n",
       "0  0.00632  18.0   2.31   0.0  0.538  6.575  65.2  4.0900  1.0  296.0   \n",
       "1  0.02731   0.0   7.07   0.0  0.469  6.421  78.9  4.9671  2.0  242.0   \n",
       "2  0.02729   0.0   7.07   0.0  0.469  7.185  61.1  4.9671  2.0  242.0   \n",
       "3  0.03237   0.0   2.18   0.0  0.458  6.998  45.8  6.0622  3.0  222.0   \n",
       "4  0.06905   0.0   2.18   0.0  0.458  7.147  54.2  6.0622  3.0  222.0   \n",
       "\n",
       "   PTRATIO  MEDV  \n",
       "0     15.3  24.0  \n",
       "1     17.8  21.6  \n",
       "2     17.8  34.7  \n",
       "3     18.7  33.4  \n",
       "4     18.7  36.2  "
      ]
     },
     "execution_count": 41,
     "metadata": {},
     "output_type": "execute_result"
    }
   ],
   "source": [
    "boston = pd.DataFrame(boston_dataset.data, columns=boston_dataset.feature_names)\n",
    "boston.drop(columns=['B', 'LSTAT'], inplace=True)\n",
    "boston['MEDV'] = boston_dataset.target\n",
    "boston.head()"
   ]
  },
  {
   "cell_type": "code",
   "execution_count": 42,
   "metadata": {},
   "outputs": [
    {
     "data": {
      "text/plain": [
       "CRIM       0\n",
       "ZN         0\n",
       "INDUS      0\n",
       "CHAS       0\n",
       "NOX        0\n",
       "RM         0\n",
       "AGE        0\n",
       "DIS        0\n",
       "RAD        0\n",
       "TAX        0\n",
       "PTRATIO    0\n",
       "MEDV       0\n",
       "dtype: int64"
      ]
     },
     "execution_count": 42,
     "metadata": {},
     "output_type": "execute_result"
    }
   ],
   "source": [
    "boston.isnull().sum()"
   ]
  },
  {
   "cell_type": "code",
   "execution_count": 43,
   "metadata": {},
   "outputs": [
    {
     "name": "stdout",
     "output_type": "stream",
     "text": [
      "<class 'pandas.core.frame.DataFrame'>\n",
      "RangeIndex: 506 entries, 0 to 505\n",
      "Data columns (total 12 columns):\n",
      "CRIM       506 non-null float64\n",
      "ZN         506 non-null float64\n",
      "INDUS      506 non-null float64\n",
      "CHAS       506 non-null float64\n",
      "NOX        506 non-null float64\n",
      "RM         506 non-null float64\n",
      "AGE        506 non-null float64\n",
      "DIS        506 non-null float64\n",
      "RAD        506 non-null float64\n",
      "TAX        506 non-null float64\n",
      "PTRATIO    506 non-null float64\n",
      "MEDV       506 non-null float64\n",
      "dtypes: float64(12)\n",
      "memory usage: 47.6 KB\n"
     ]
    }
   ],
   "source": [
    "boston.info()"
   ]
  },
  {
   "cell_type": "code",
   "execution_count": 44,
   "metadata": {},
   "outputs": [],
   "source": [
    "X, y = boston.iloc[:,:-1], boston.iloc[:,-1]\n",
    "X_train, X_test, y_train, y_test = train_test_split(X,\n",
    "                                                    y,\n",
    "                                                    test_size=0.2,\n",
    "                                                    random_state=1)"
   ]
  },
  {
   "cell_type": "code",
   "execution_count": 45,
   "metadata": {},
   "outputs": [
    {
     "name": "stdout",
     "output_type": "stream",
     "text": [
      "[17:20:15] WARNING: C:/Jenkins/workspace/xgboost-win64_release_0.90/src/objective/regression_obj.cu:152: reg:linear is now deprecated in favor of reg:squarederror.\n"
     ]
    },
    {
     "data": {
      "text/plain": [
       "Text(0.5, 0, 'Relative Importance')"
      ]
     },
     "execution_count": 45,
     "metadata": {},
     "output_type": "execute_result"
    },
    {
     "data": {
      "image/png": "[encoded data removed]",
      "text/plain": [
       "<Figure size 504x504 with 1 Axes>"
      ]
     },
     "metadata": {},
     "output_type": "display_data"
    }
   ],
   "source": [
    "model1 = xgb.XGBRegressor(n_estimators=100)\n",
    "result1 = model1.fit(X_train,y_train)\n",
    "\n",
    "features = X_train.columns\n",
    "importances = result1.feature_importances_\n",
    "indices = np.argsort(importances)\n",
    "plt.figure(figsize=(7, 7))\n",
    "plt.title('Feature Importances on Boston dataset')\n",
    "plt.barh(range(len(indices)), importances[indices], color='b', align='center')\n",
    "plt.yticks(range(len(indices)), [features[i] for i in indices])\n",
    "plt.xlabel('Relative Importance')"
   ]
  },
  {
   "cell_type": "markdown",
   "metadata": {},
   "source": [
    "From the plot above it can be seen that the model is very sensitive to RM. We will create a blended model which takes the weighted average of two models one trained on all features including RM and one trained on all features excluding RM."
   ]
  },
  {
   "cell_type": "code",
   "execution_count": 46,
   "metadata": {},
   "outputs": [],
   "source": [
    "class ColumnSelector(object):\n",
    "    \"\"\"\n",
    "    A feature selector for scikit-learn's Pipeline class that returns\n",
    "    specified columns from a numpy array.\n",
    "\n",
    "    \"\"\"\n",
    "\n",
    "    def __init__(self, cols):\n",
    "        self.cols = cols\n",
    "\n",
    "    def transform(self, X, y=None):\n",
    "        return X.iloc[:, self.cols]\n",
    "\n",
    "    def fit(self, X, y=None):\n",
    "        return self"
   ]
  },
  {
   "cell_type": "code",
   "execution_count": 47,
   "metadata": {},
   "outputs": [],
   "source": [
    "from sklearn.pipeline import Pipeline\n",
    "from sklearn.ensemble import VotingRegressor\n",
    "\n",
    "pipe1 = Pipeline([\n",
    "               ('sel', ColumnSelector([0, 1, 2, 3, 4, 5, 6, 7, 8, 9, 10])),\n",
    "               ('clf', xgb.XGBRegressor())\n",
    "])\n",
    "\n",
    "pipe2 = Pipeline([\n",
    "               ('sel', ColumnSelector([0, 1, 2, 3, 4, 6, 7, 8, 9, 10])),\n",
    "               ('clf', xgb.XGBRegressor())]\n",
    "        )"
   ]
  },
  {
   "cell_type": "code",
   "execution_count": 50,
   "metadata": {},
   "outputs": [
    {
     "name": "stdout",
     "output_type": "stream",
     "text": [
      "[17:23:13] WARNING: C:/Jenkins/workspace/xgboost-win64_release_0.90/src/objective/regression_obj.cu:152: reg:linear is now deprecated in favor of reg:squarederror.\n",
      "[17:23:13] WARNING: C:/Jenkins/workspace/xgboost-win64_release_0.90/src/objective/regression_obj.cu:152: reg:linear is now deprecated in favor of reg:squarederror.\n",
      "[17:23:19] WARNING: C:/Jenkins/workspace/xgboost-win64_release_0.90/src/objective/regression_obj.cu:152: reg:linear is now deprecated in favor of reg:squarederror.\n",
      "[17:23:19] WARNING: C:/Jenkins/workspace/xgboost-win64_release_0.90/src/objective/regression_obj.cu:152: reg:linear is now deprecated in favor of reg:squarederror.\n",
      "[17:23:27] WARNING: C:/Jenkins/workspace/xgboost-win64_release_0.90/src/objective/regression_obj.cu:152: reg:linear is now deprecated in favor of reg:squarederror.\n",
      "[17:23:27] WARNING: C:/Jenkins/workspace/xgboost-win64_release_0.90/src/objective/regression_obj.cu:152: reg:linear is now deprecated in favor of reg:squarederror.\n",
      "[17:23:34] WARNING: C:/Jenkins/workspace/xgboost-win64_release_0.90/src/objective/regression_obj.cu:152: reg:linear is now deprecated in favor of reg:squarederror.\n",
      "[17:23:34] WARNING: C:/Jenkins/workspace/xgboost-win64_release_0.90/src/objective/regression_obj.cu:152: reg:linear is now deprecated in favor of reg:squarederror.\n"
     ]
    },
    {
     "data": {
      "image/png": "[encoded data removed]",
      "text/plain": [
       "<Figure size 864x720 with 4 Axes>"
      ]
     },
     "metadata": {},
     "output_type": "display_data"
    }
   ],
   "source": [
    "alphas = [100, 50, 25 , 0]\n",
    "fig, ax = plt.subplots(2,2)\n",
    "fig.set_size_inches(12, 10)\n",
    "fig.suptitle('Partial dependency plot on Boston dataset', fontsize=14)\n",
    "plt.subplots_adjust(left = 0.07, right = 0.94, bottom = 0.15, top = 0.9)\n",
    "for i, alpha in enumerate(alphas):\n",
    "    er = VotingRegressor([('p1', pipe1),\n",
    "                          ('p2', pipe2)], [alpha, 100-alpha])\n",
    "    pipe3 = Pipeline([\n",
    "               ('eclf', er),\n",
    "     ])\n",
    "    parameters = {\n",
    "    'eclf__p1__clf__n_estimators':[25, 30, 40, 50, 100, 150],\n",
    "    'eclf__p2__clf__n_estimators':[25, 30, 40, 50, 100, 150],\n",
    "    }\n",
    "    grid_search = GridSearchCV(pipe3, parameters, n_jobs=-1, cv=5)\n",
    "    res = grid_search.fit(X_train, y_train)\n",
    "    grid, y_pred = get_partial_dependence(res, 'RM', X_train, y_train)\n",
    "    ax = ax.flatten()\n",
    "    axis = ax[i]\n",
    "    label = \"Model1 : Model2 Weights- \" + str(alpha) + \": \" + str(100-alpha)\n",
    "    axis.plot(grid, y_pred, color = 'blue', linewidth = 2, label=label)\n",
    "    axis.set_xlim(min(grid), max(grid))\n",
    "    axis.set_xlabel('RM', fontsize = 10)\n",
    "    axis.set_ylabel('Partial Dependence', fontsize = 10)\n",
    "    handles, labels = axis.get_legend_handles_labels()\n",
    "    axis.legend(handles, labels, loc = 'best', fontsize = 10)"
   ]
  },
  {
   "cell_type": "code",
   "execution_count": null,
   "metadata": {},
   "outputs": [],
   "source": []
  }
 ],
 "metadata": {
  "kernelspec": {
   "display_name": "Python 3",
   "language": "python",
   "name": "python3"
  },
  "language_info": {
   "codemirror_mode": {
    "name": "ipython",
    "version": 3
   },
   "file_extension": ".py",
   "mimetype": "text/x-python",
   "name": "python",
   "nbconvert_exporter": "python",
   "pygments_lexer": "ipython3",
   "version": "3.5.4"
  }
 },
 "nbformat": 4,
 "nbformat_minor": 2
}
